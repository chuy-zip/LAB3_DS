{
 "cells": [
  {
   "cell_type": "code",
   "execution_count": 11,
   "id": "762954de",
   "metadata": {},
   "outputs": [],
   "source": [
    "import matplotlib.pyplot as plt"
   ]
  },
  {
   "cell_type": "code",
   "execution_count": 12,
   "id": "01c60f49",
   "metadata": {},
   "outputs": [],
   "source": [
    "import os\n",
    "import shutil\n",
    "from collections import defaultdict\n",
    "\n",
    "def count_files_in_polymnist(source_base_path):\n",
    "    count_by_m_folder = defaultdict(int)\n",
    "    count_by_class = defaultdict(int)\n",
    "\n",
    "    for split in ['train', 'test']:\n",
    "        split_path = os.path.join(source_base_path, split)\n",
    "        print(f\"\\n=== {split.upper()} ===\")\n",
    "\n",
    "        for m_folder in ['m0', 'm1', 'm2', 'm3', 'm4']:\n",
    "            m_path = os.path.join(split_path, m_folder)\n",
    "            if not os.path.exists(m_path):\n",
    "                continue\n",
    "\n",
    "            files = [f for f in os.listdir(m_path) if f.endswith('.png')]\n",
    "            count_by_m_folder[m_folder] = len(files)\n",
    "            print(f\"{m_folder}: {len(files)} archivos\")\n",
    "\n",
    "            for filename in files:\n",
    "                label = filename.split('.')[-2]\n",
    "                count_by_class[label] += 1\n",
    "\n",
    "    return count_by_class\n",
    "\n",
    "def count_files_in_new_folder(source_base_path):\n",
    "    count_by_m_folder = defaultdict(int)\n",
    "    count_by_class = defaultdict(int)\n",
    "\n",
    "    distribution = {\"train\":{}, \"test\":{}}\n",
    "\n",
    "\n",
    "    for split in ['train', 'test']:\n",
    "        split_path = os.path.join(source_base_path, split)\n",
    "        print(f\"\\n=== {split.upper()} ===\")\n",
    "\n",
    "        for m_folder in range(10):\n",
    "            m_path = os.path.join(split_path, str(m_folder))\n",
    "            if not os.path.exists(m_path):\n",
    "                continue\n",
    "\n",
    "            files = [f for f in os.listdir(m_path) if f.endswith('.png')]\n",
    "            count_by_m_folder[m_folder] = len(files)\n",
    "            print(f\"{m_folder}: {len(files)} archivos\")\n",
    "            distribution[split][m_folder] = len(files)\n",
    "\n",
    "            for filename in files:\n",
    "                label = filename.split('.')[-2]\n",
    "                count_by_class[label] += 1\n",
    "\n",
    "    #print(\"\\n=== RESUMEN POR CLASE ===\")\n",
    "    #for label in sorted(count_by_class.keys()):\n",
    "    #    print(f\"Clase {label}: {count_by_class[label]} imágenes\")\n",
    "\n",
    "    return count_by_class, distribution\n",
    "\n"
   ]
  },
  {
   "cell_type": "code",
   "execution_count": 13,
   "id": "8e3d438d",
   "metadata": {},
   "outputs": [
    {
     "name": "stdout",
     "output_type": "stream",
     "text": [
      "=== CONTEO INICIAL ===\n",
      "\n",
      "=== TRAIN ===\n",
      "m0: 60000 archivos\n",
      "m1: 60000 archivos\n",
      "m2: 60000 archivos\n",
      "m3: 60000 archivos\n",
      "m4: 60000 archivos\n",
      "\n",
      "=== TEST ===\n",
      "m0: 10000 archivos\n",
      "m1: 10000 archivos\n",
      "m2: 10000 archivos\n",
      "m3: 10000 archivos\n",
      "m4: 10000 archivos\n"
     ]
    }
   ],
   "source": [
    "# Rutas\n",
    "source_base_path = 'img/PolyMNIST/MMNIST' \n",
    "target_base_path = 'img/numbers'   \n",
    "\n",
    "# Contar archivos antes de reorganizar\n",
    "print(\"=== CONTEO INICIAL ===\")\n",
    "original_count = count_files_in_polymnist(source_base_path)"
   ]
  },
  {
   "cell_type": "code",
   "execution_count": null,
   "id": "cbc25f3f",
   "metadata": {},
   "outputs": [
    {
     "name": "stdout",
     "output_type": "stream",
     "text": [
      "\n",
      "=== TRAIN ===\n",
      "0: 29615 archivos\n",
      "1: 33710 archivos\n",
      "2: 29790 archivos\n",
      "3: 30655 archivos\n",
      "4: 29210 archivos\n",
      "5: 27105 archivos\n",
      "6: 29590 archivos\n",
      "7: 31325 archivos\n",
      "8: 29255 archivos\n",
      "9: 29745 archivos\n",
      "\n",
      "=== TEST ===\n",
      "0: 4900 archivos\n",
      "1: 5675 archivos\n",
      "2: 5160 archivos\n",
      "3: 5050 archivos\n",
      "4: 4910 archivos\n",
      "5: 4460 archivos\n",
      "6: 4790 archivos\n",
      "7: 5140 archivos\n",
      "8: 4870 archivos\n",
      "9: 5045 archivos\n",
      "defaultdict(<class 'int'>, {'0': 34515, '1': 39385, '2': 34950, '3': 35705, '4': 34120, '5': 31565, '6': 34380, '7': 36465, '8': 34125, '9': 34790})\n",
      "\n",
      "defaultdict(<class 'int'>, {'0': 34515, '1': 39385, '2': 34950, '3': 35705, '4': 34120, '5': 31565, '6': 34380, '7': 36465, '8': 34125, '9': 34790})\n",
      "{'train': {0: 29615, 1: 33710, 2: 29790, 3: 30655, 4: 29210, 5: 27105, 6: 29590, 7: 31325, 8: 29255, 9: 29745}, 'test': {0: 4900, 1: 5675, 2: 5160, 3: 5050, 4: 4910, 5: 4460, 6: 4790, 7: 5140, 8: 4870, 9: 5045}}\n"
     ]
    }
   ],
   "source": [
    "# Verificar el resultado\n",
    "# print(\"\\n=== CONTEO EN 'numbers' ===\")\n",
    "new_count, distribution = count_files_in_new_folder(target_base_path)\n",
    "\n",
    "#print(original_count)\n",
    "#print()\n",
    "#print(new_count)\n",
    "\n",
    "print(distribution)\n"
   ]
  },
  {
   "cell_type": "code",
   "execution_count": null,
   "id": "e89dfa33",
   "metadata": {},
   "outputs": [
    {
     "data": {
      "image/png": "[encoded data removed]",
      "text/plain": [
       "<Figure size 640x480 with 1 Axes>"
      ]
     },
     "metadata": {},
     "output_type": "display_data"
    }
   ],
   "source": [
    "train_x_values = list(distribution[\"train\"].keys())\n",
    "train_y_values_count = list(distribution[\"train\"].values()) \n",
    "\n",
    "plt.bar(train_x_values, train_y_values_count)\n",
    "plt.xlabel('Categories')\n",
    "plt.ylabel('Cuantity')\n",
    "plt.title('Distribution of numbers in train data set')\n",
    "plt.show()"
   ]
  },
  {
   "cell_type": "code",
   "execution_count": null,
   "id": "e7bb3c3d",
   "metadata": {},
   "outputs": [],
   "source": [
    "test_x_values = list(distribution[\"test\"].keys())\n",
    "test_y_values_count = list(distribution[\"test\"].values()) \n",
    "\n",
    "plt.bar(test_x_values, test_y_values_count)\n",
    "plt.xlabel('Categories')\n",
    "plt.ylabel('Cuantity')\n",
    "plt.title('Distribution of numbers in test data set')\n",
    "plt.show()"
   ]
  }
 ],
 "metadata": {
  "kernelspec": {
   "display_name": "Python 3",
   "language": "python",
   "name": "python3"
  },
  "language_info": {
   "codemirror_mode": {
    "name": "ipython",
    "version": 3
   },
   "file_extension": ".py",
   "mimetype": "text/x-python",
   "name": "python",
   "nbconvert_exporter": "python",
   "pygments_lexer": "ipython3",
   "version": "3.12.2"
  }
 },
 "nbformat": 4,
 "nbformat_minor": 5
}
