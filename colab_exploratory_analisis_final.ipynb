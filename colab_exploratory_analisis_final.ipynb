{
  "cells": [
    {
      "cell_type": "code",
      "execution_count": null,
      "id": "7XPRmY4QH-ry",
      "metadata": {
        "id": "7XPRmY4QH-ry"
      },
      "outputs": [],
      "source": [
        "#esto sirve para borrar carpetas\n",
        "#import shutil\n",
        "#shutil.rmtree('/content/README.md')"
      ]
    },
    {
      "cell_type": "code",
      "execution_count": null,
      "id": "gPBZYzZ1Et3_",
      "metadata": {
        "colab": {
          "base_uri": "https://localhost:8080/"
        },
        "id": "gPBZYzZ1Et3_",
        "outputId": "c7ca9f7f-9159-462f-9d5f-be5e275080ee"
      },
      "outputs": [
        {
          "name": "stdout",
          "output_type": "stream",
          "text": [
            "Mounted at /content/drive\n"
          ]
        }
      ],
      "source": [
        "# esto es para permitir tener acceso a drive\n",
        "from google.colab import drive\n",
        "drive.mount('/content/drive')"
      ]
    },
    {
      "cell_type": "code",
      "execution_count": null,
      "id": "_urmridqEySt",
      "metadata": {
        "id": "_urmridqEySt"
      },
      "outputs": [],
      "source": [
        "import zipfile\n",
        "\n",
        "# esto es para la ruta del archivo zip, una vez conectado con drive se puede buscar el archivo\n",
        "# en el explorador de colab darle click derecho y pegar el path\n",
        "zip_path = '/content/drive/MyDrive/numbers.zip'\n",
        "\n",
        "# no pongo /content/numbers porque al descomprimir ya crea una carpeta que se llama numbers\n",
        "extract_path = '/content'\n",
        "\n",
        "with zipfile.ZipFile(zip_path, 'r') as zip_ref:\n",
        "    zip_ref.extractall(extract_path)\n",
        "\n"
      ]
    },
    {
      "cell_type": "code",
      "execution_count": null,
      "id": "RCtpPwio5x18",
      "metadata": {
        "id": "RCtpPwio5x18"
      },
      "outputs": [],
      "source": [
        "import zipfile\n",
        "\n",
        "# esto es para la data original\n",
        "zip_path2 = '/content/drive/MyDrive/img.zip'\n",
        "extract_path = '/content/img'\n",
        "\n",
        "with zipfile.ZipFile(zip_path2, 'r') as zip_ref:\n",
        "    zip_ref.extractall(extract_path)"
      ]
    },
    {
      "cell_type": "code",
      "execution_count": null,
      "id": "762954de",
      "metadata": {
        "id": "762954de"
      },
      "outputs": [],
      "source": [
        "import matplotlib.pyplot as plt\n",
        "import os\n",
        "import shutil\n",
        "from collections import defaultdict\n",
        "import tensorflow as tf\n",
        "from tensorflow import keras\n",
        "import numpy as np\n",
        "import keras.preprocessing.image as kerasImg\n",
        "import keras.layers\n",
        "from tensorflow.keras.preprocessing.image import ImageDataGenerator\n",
        "from keras import ops"
      ]
    },
    {
      "cell_type": "code",
      "execution_count": null,
      "id": "01c60f49",
      "metadata": {
        "id": "01c60f49"
      },
      "outputs": [],
      "source": [
        "def count_files_in_polymnist(source_base_path):\n",
        "    count_by_m_folder = defaultdict(int)\n",
        "    count_by_class = defaultdict(int)\n",
        "\n",
        "    for split in ['train', 'test']:\n",
        "        split_path = os.path.join(source_base_path, split)\n",
        "        print(f\"\\n=== {split.upper()} ===\")\n",
        "\n",
        "        for m_folder in ['m0', 'm1', 'm2', 'm3', 'm4']:\n",
        "            m_path = os.path.join(split_path, m_folder)\n",
        "            if not os.path.exists(m_path):\n",
        "              print(f\"folder {m_path} not found\")\n",
        "              continue\n",
        "\n",
        "            files = [f for f in os.listdir(m_path) if f.endswith('.png')]\n",
        "            count_by_m_folder[m_folder] = len(files)\n",
        "            print(f\"{m_folder}: {len(files)} archivos\")\n",
        "\n",
        "            for filename in files:\n",
        "                label = filename.split('.')[-2]\n",
        "                count_by_class[label] += 1\n",
        "\n",
        "    return count_by_class\n",
        "\n",
        "def count_files_in_new_folder(source_base_path):\n",
        "    count_by_m_folder = defaultdict(int)\n",
        "    count_by_class = defaultdict(int)\n",
        "\n",
        "    distribution = {\"train\":{}, \"test\":{}}\n",
        "\n",
        "\n",
        "    for split in ['train', 'test']:\n",
        "        split_path = os.path.join(source_base_path, split)\n",
        "        print(f\"\\n=== {split.upper()} ===\")\n",
        "\n",
        "        for m_folder in range(10):\n",
        "            m_path = os.path.join(split_path, str(m_folder))\n",
        "            if not os.path.exists(m_path):\n",
        "                continue\n",
        "\n",
        "            files = [f for f in os.listdir(m_path) if f.endswith('.png')]\n",
        "            count_by_m_folder[m_folder] = len(files)\n",
        "            print(f\"{m_folder}: {len(files)} archivos\")\n",
        "            distribution[split][m_folder] = len(files)\n",
        "\n",
        "            for filename in files:\n",
        "                label = filename.split('.')[-2]\n",
        "                count_by_class[label] += 1\n",
        "\n",
        "    #print(\"\\n=== RESUMEN POR CLASE ===\")\n",
        "    #for label in sorted(count_by_class.keys()):\n",
        "    #    print(f\"Clase {label}: {count_by_class[label]} imágenes\")\n",
        "\n",
        "    return count_by_class, distribution\n",
        "\n"
      ]
    },
    {
      "cell_type": "code",
      "execution_count": null,
      "id": "Lzzk0JOX5a0k",
      "metadata": {
        "colab": {
          "base_uri": "https://localhost:8080/"
        },
        "id": "Lzzk0JOX5a0k",
        "outputId": "0606424e-b83a-4af2-af65-ab9897903776"
      },
      "outputs": [
        {
          "name": "stdout",
          "output_type": "stream",
          "text": [
            "=== CONTEO INICIAL ===\n",
            "\n",
            "=== TRAIN ===\n",
            "m0: 60000 archivos\n",
            "m1: 60000 archivos\n",
            "m2: 60000 archivos\n",
            "m3: 60000 archivos\n",
            "m4: 60000 archivos\n",
            "\n",
            "=== TEST ===\n",
            "m0: 10000 archivos\n",
            "m1: 10000 archivos\n",
            "m2: 10000 archivos\n",
            "m3: 10000 archivos\n",
            "m4: 10000 archivos\n",
            "defaultdict(<class 'int'>, {'9': 34790, '5': 31565, '2': 34950, '7': 36465, '6': 34380, '4': 34120, '0': 34515, '3': 35705, '1': 39385, '8': 34125})\n"
          ]
        }
      ],
      "source": [
        "# Rutas\n",
        "source_base_path = '/content/img/PolyMNIST/MMNIST'\n",
        "\n",
        "# Contar archivos antes de reorganizar\n",
        "print(\"=== CONTEO INICIAL ===\")\n",
        "original_count = count_files_in_polymnist(source_base_path)\n",
        "print(original_count)"
      ]
    },
    {
      "cell_type": "markdown",
      "id": "c8665bea",
      "metadata": {},
      "source": [
        "# Analisis de datos originales\n",
        "\n",
        "Al descargar directamente el set de datos de numeros, este no está directamente en un formato apropiado para procesarlo con una red neuronal. Como se puede ver en el output, si se tiene una carpeta de test y otra de train pero el contenido de las carpetas no es directamente los numeros separados. Se tienen carpetas numeradas del 0 al 4 con la letra m. Por lo que hemos visto, cada m_n carpeta es un \"tipo de numero\", por ejemplo todos los números de la carpeta m1 parecen ser imagenes con colores y tipo de escritura similar, sin embargo dentro de las carpetas \"m\" no estan clasificados los numeros. Es decir hay miles de numeros de distintos numeros en todas las carpetas.\n",
        "\n",
        "![original data](other/original_files.png)\n",
        "\n",
        "El formato de las imágenes dentro de las carpetas es grupo_numeroReal.png, osea 0.4.png en la carpeta m1, representa una imagen del grupo 1 de la carpeta m1 que es un número 4. En total todas las carpetas \"m\" en train tienen 60,000 archivos. En el caso del test cada subcarpeta tiene 10,000 archivos. Vemos que los datos están balanceados pero, la idea de este proyecto es poder reconocer/clasificar imagenes mediante una red neuronal, por lo que es necesario re ordenar los datos de forma que train tiene 10 subcarpetas (nummeradas del 0 al 9) donde cada una de estas representen un numero del 0 al 9. Esto lo realizamos mediante un script, esto hará que el procesamiento sea más sencillo usando keras. Otro dato importante, las imagenes sonde 28x28, por lo que no es necesario tanto pre procesamiento para el tamaño."
      ]
    },
    {
      "cell_type": "markdown",
      "id": "2dcedb73",
      "metadata": {},
      "source": [
        "# Script usado para organizar los datos\n",
        "\n",
        "\n",
        "Lo que hacemos es iterar en las carpetas y archivos para clasificar los números copiando las imagenes. Podemos identificar de manera sencilla cual es el valor real de la imagen usando el numero que está despues del punto."
      ]
    },
    {
      "cell_type": "code",
      "execution_count": null,
      "id": "a45aff7f",
      "metadata": {},
      "outputs": [],
      "source": [
        "import os\n",
        "import shutil\n",
        "from collections import defaultdict\n",
        "\n",
        "def reorganize_polymnist(source_base_path, target_base_path):\n",
        "    for split in ['train', 'test']:\n",
        "        for class_num in range(10):\n",
        "            os.makedirs(os.path.join(target_base_path, split, str(class_num)), exist_ok=True)\n",
        "\n",
        "    for split in ['train', 'test']:\n",
        "        split_source_path = os.path.join(source_base_path, split)\n",
        "        split_target_path = os.path.join(target_base_path, split)\n",
        "\n",
        "        for m_folder in ['m0', 'm1', 'm2', 'm3', 'm4']:\n",
        "            m_path = os.path.join(split_source_path, m_folder)\n",
        "            if not os.path.exists(m_path):\n",
        "                print(\"No path with: \", m_path)\n",
        "                continue\n",
        "\n",
        "            for filename in os.listdir(m_path):\n",
        "                if filename.endswith('.png'):\n",
        "                    label = filename.split('.')[-2]\n",
        "                    new_filename = f\"{m_folder}_{filename}\"\n",
        "                    target_folder = os.path.join(split_target_path, label)\n",
        "                    src_path = os.path.join(m_path, filename)\n",
        "                    dst_path = os.path.join(target_folder, new_filename)\n",
        "                    shutil.copy(src_path, dst_path)"
      ]
    },
    {
      "cell_type": "markdown",
      "id": "d131a23b",
      "metadata": {},
      "source": [
        "# Resultado de organizar la data\n",
        "Estructura nueva      |  Ejemplo de carpeta\n",
        ":-------------------------:|:-------------------------:\n",
        "![estructura](other/num_folders.png)  |  ![ejemplo](other/ej_folder.png)\n",
        "\n",
        "Ahora con esta distribución de datos podemos verificar realmente el balance de los datos, por clase (cantidad de imagenes por número)"
      ]
    },
    {
      "cell_type": "code",
      "execution_count": null,
      "id": "8e3d438d",
      "metadata": {
        "colab": {
          "base_uri": "https://localhost:8080/"
        },
        "id": "8e3d438d",
        "outputId": "929cee93-d208-4391-b512-b84e41247ea0"
      },
      "outputs": [
        {
          "name": "stdout",
          "output_type": "stream",
          "text": [
            "\n",
            "=== TRAIN ===\n",
            "0: 29615 archivos\n",
            "1: 33710 archivos\n",
            "2: 29790 archivos\n",
            "3: 30655 archivos\n",
            "4: 29210 archivos\n",
            "5: 27105 archivos\n",
            "6: 29590 archivos\n",
            "7: 31325 archivos\n",
            "8: 29255 archivos\n",
            "9: 29745 archivos\n",
            "\n",
            "=== TEST ===\n",
            "0: 4900 archivos\n",
            "1: 5675 archivos\n",
            "2: 5160 archivos\n",
            "3: 5050 archivos\n",
            "4: 4910 archivos\n",
            "5: 4460 archivos\n",
            "6: 4790 archivos\n",
            "7: 5140 archivos\n",
            "8: 4870 archivos\n",
            "9: 5045 archivos\n",
            "{'train': {0: 29615, 1: 33710, 2: 29790, 3: 30655, 4: 29210, 5: 27105, 6: 29590, 7: 31325, 8: 29255, 9: 29745}, 'test': {0: 4900, 1: 5675, 2: 5160, 3: 5050, 4: 4910, 5: 4460, 6: 4790, 7: 5140, 8: 4870, 9: 5045}}\n"
          ]
        }
      ],
      "source": [
        "# Rutas\n",
        "base_path = '/content/numbers'\n",
        "\n",
        "# Ejecutar la función\n",
        "count_by_class, distribution = count_files_in_new_folder(base_path)\n",
        "\n",
        "print(distribution)\n"
      ]
    },
    {
      "cell_type": "code",
      "execution_count": null,
      "id": "e89dfa33",
      "metadata": {
        "colab": {
          "base_uri": "https://localhost:8080/",
          "height": 472
        },
        "id": "e89dfa33",
        "outputId": "a0ecccaa-7632-4db8-879a-4a863de8ea7a"
      },
      "outputs": [
        {
          "data": {
            "image/png": "[encoded data removed]",
            "text/plain": [
              "<Figure size 640x480 with 1 Axes>"
            ]
          },
          "metadata": {},
          "output_type": "display_data"
        }
      ],
      "source": [
        "train_x_values = list(distribution[\"train\"].keys())\n",
        "train_y_values_count = list(distribution[\"train\"].values())\n",
        "\n",
        "plt.bar(train_x_values, train_y_values_count)\n",
        "plt.xlabel('Categories')\n",
        "plt.ylabel('Cuantity')\n",
        "plt.title('Distribution of numbers in train data set')\n",
        "plt.show()"
      ]
    },
    {
      "cell_type": "code",
      "execution_count": null,
      "id": "e7bb3c3d",
      "metadata": {
        "colab": {
          "base_uri": "https://localhost:8080/",
          "height": 472
        },
        "id": "e7bb3c3d",
        "outputId": "f6439d36-9bbe-413e-99d3-4f1d43e57cd2"
      },
      "outputs": [
        {
          "data": {
            "image/png": "[encoded data removed]",
            "text/plain": [
              "<Figure size 640x480 with 1 Axes>"
            ]
          },
          "metadata": {},
          "output_type": "display_data"
        }
      ],
      "source": [
        "test_x_values = list(distribution[\"test\"].keys())\n",
        "test_y_values_count = list(distribution[\"test\"].values())\n",
        "\n",
        "plt.bar(test_x_values, test_y_values_count)\n",
        "plt.xlabel('Categories')\n",
        "plt.ylabel('Cuantity')\n",
        "plt.title('Distribution of numbers in test data set')\n",
        "plt.show()"
      ]
    },
    {
      "cell_type": "markdown",
      "id": "21b42e0f",
      "metadata": {},
      "source": [
        "Como se puede ver la clase que tiene más valores es la del número 1 y la que tiene menos es el 5. Tanto los números en el test y train parecen tener la misma distribución de datos. Ahora bien, podríamos hacer un downsampling para que los datos estén completamente balanceados con la clase de menor cantidad, pero viendo las gráficas nos parece que realmente la data esta bastante bien balanceada. Y ya que realmente tenemos una gran cantidad de datos de todos los números no es necesario hacer cambios con respecto al balance o la cantidad de valores en testing y training. Con esto tenemos los datos listos para realizarlo los modelos."
      ]
    }
  ],
  "metadata": {
    "colab": {
      "provenance": []
    },
    "kernelspec": {
      "display_name": "Python 3",
      "language": "python",
      "name": "python3"
    },
    "language_info": {
      "codemirror_mode": {
        "name": "ipython",
        "version": 3
      },
      "file_extension": ".py",
      "mimetype": "text/x-python",
      "name": "python",
      "nbconvert_exporter": "python",
      "pygments_lexer": "ipython3",
      "version": "3.12.2"
    }
  },
  "nbformat": 4,
  "nbformat_minor": 5
}
